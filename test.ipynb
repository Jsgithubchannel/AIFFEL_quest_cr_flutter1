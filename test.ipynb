{
  "nbformat": 4,
  "nbformat_minor": 0,
  "metadata": {
    "colab": {
      "provenance": [],
      "include_colab_link": true
    },
    "kernelspec": {
      "name": "python3",
      "display_name": "Python 3"
    },
    "language_info": {
      "name": "python"
    }
  },
  "cells": [
    {
      "cell_type": "markdown",
      "metadata": {
        "id": "view-in-github",
        "colab_type": "text"
      },
      "source": [
        "<a href=\"https://colab.research.google.com/github/kwisetree/AIFFEL_quest_cr/blob/main/test.ipynb\" target=\"_parent\"><img src=\"https://colab.research.google.com/assets/colab-badge.svg\" alt=\"Open In Colab\"/></a>"
      ]
    },
    {
      "cell_type": "code",
      "execution_count": null,
      "metadata": {
        "colab": {
          "base_uri": "https://localhost:8080/"
        },
        "id": "QDXXgWGOWNU-",
        "outputId": "25b974d3-01ed-49ab-9a99-bedeeb2f1f0c"
      },
      "outputs": [
        {
          "output_type": "stream",
          "name": "stdout",
          "text": [
            "원하는 단수를 입력하세요:11\n",
            "11 * 1 = 11\n",
            "11 * 2 = 22\n",
            "11 * 3 = 33\n",
            "11 * 4 = 44\n",
            "11 * 5 = 55\n",
            "11 * 6 = 66\n",
            "11 * 7 = 77\n",
            "11 * 8 = 88\n",
            "11 * 9 = 99\n"
          ]
        }
      ],
      "source": [
        "# for문을 사용해 구구단 출력하기\n",
        "# Q. n * x = m 형태로 반복해서 출력되도록 구현해보세요!\n",
        "\n",
        "n = int(input(\"원하는 단수를 입력하세요:\"))\n",
        "for x in range(1, 10):\n",
        "    m = n * x\n",
        "    print(f\"{n} * {x} = {m}\")"
      ]
    },
    {
      "cell_type": "code",
      "source": [
        "# Q. 시험 성적을 입력하면 학점을 출력하는 프로그램을 조건문을 이용하여 만들어 보세요.\n",
        "\n",
        "score = int(input(('시험 점수를 입력하세요.:  ')))\n",
        "\n",
        "if score >= 90:\n",
        "    grade = 'A'\n",
        "\n",
        "elif score >= 80:\n",
        "    grade = 'B'\n",
        "\n",
        "elif score >= 70:\n",
        "    grade = 'C'\n",
        "\n",
        "elif score >= 60:\n",
        "    grade = 'D'\n",
        "\n",
        "else:\n",
        "    grade = 'E'\n",
        "\n",
        "print (\"학점은 \" + grade + \" 입니다.\")"
      ],
      "metadata": {
        "id": "KNOfqho1ysqi",
        "outputId": "f4cc6a03-fa08-4877-fcfb-ef8678865419",
        "colab": {
          "base_uri": "https://localhost:8080/"
        }
      },
      "execution_count": null,
      "outputs": [
        {
          "output_type": "stream",
          "name": "stdout",
          "text": [
            "시험 점수를 입력하세요.:  90\n",
            "학점은 A 입니다.\n"
          ]
        }
      ]
    }
  ]
}