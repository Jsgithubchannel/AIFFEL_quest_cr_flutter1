{
  "nbformat": 4,
  "nbformat_minor": 0,
  "metadata": {
    "colab": {
      "provenance": [],
      "authorship_tag": "ABX9TyNxPPZyLrvBFkA4BeoksDxo",
      "include_colab_link": true
    },
    "kernelspec": {
      "name": "python3",
      "display_name": "Python 3"
    },
    "language_info": {
      "name": "python"
    }
  },
  "cells": [
    {
      "cell_type": "markdown",
      "metadata": {
        "id": "view-in-github",
        "colab_type": "text"
      },
      "source": [
        "def palindrome(word):\n",
        "    # 공백과 대소문자 구분을 없애기 위해 소문자로 변환하고 공백 제거\n",
        "    word_cleaned = word.replace(\" \", \"\").lower()\n",
        "\n",
        "    # 문자열을 뒤집은 것과 원본이 같은지 확인\n",
        "    reversed_word = word_cleaned[::-1]\n",
        "\n",
        "    # 회문 여부를 반환\n",
        "    return word_cleaned == reversed_word, reversed_word\n",
        "\n",
        "# 입력 받기\n",
        "user_input = input(\"단어를 입력하세요: \")\n",
        "\n",
        "# 회문 여부 확인 및 뒤집힌 단어 출력\n",
        "is_palindrome, reversed_word = palindrome(user_input)\n",
        "\n",
        "# 뒤집힌 단어 먼저 출력\n",
        "print(f\"뒤집힌 단어는: {reversed_word}\")\n",
        "\n",
        "# 결과 출력\n",
        "if is_palindrome:\n",
        "    print(\"입력된 단어는 회문입니다.\")\n",
        "else:\n",
        "    print(\"입력된 단어는 회문이 아닙니다.\")"
      ]
    },
    {
      "cell_type": "code",
      "source": [],
      "metadata": {
        "id": "WYlpahWPhPPl"
      },
      "execution_count": null,
      "outputs": []
    }
  ]
}
