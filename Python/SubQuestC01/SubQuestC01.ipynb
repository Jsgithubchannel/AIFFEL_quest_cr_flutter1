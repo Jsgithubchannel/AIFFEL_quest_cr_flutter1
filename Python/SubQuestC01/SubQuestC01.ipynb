{
  "nbformat": 4,
  "nbformat_minor": 0,
  "metadata": {
    "colab": {
      "provenance": [],
      "authorship_tag": "ABX9TyO3IKQC9fEzfAMmSnspFi5g",
      "include_colab_link": true
    },
    "kernelspec": {
      "name": "python3",
      "display_name": "Python 3"
    },
    "language_info": {
      "name": "python"
    }
  },
  "cells": [
    {
      "cell_type": "markdown",
      "metadata": {
        "id": "view-in-github",
        "colab_type": "text"
      },
      "source": [
        "<a href=\"https://colab.research.google.com/github/kwisetree/AIFFEL_quest_cr/blob/main/Python/SubQuestC01/SubQuestC01.ipynb\" target=\"_parent\"><img src=\"https://colab.research.google.com/assets/colab-badge.svg\" alt=\"Open In Colab\"/></a>"
      ]
    },
    {
      "cell_type": "code",
      "execution_count": 1,
      "metadata": {
        "id": "0GMQVKqaYLH2",
        "colab": {
          "base_uri": "https://localhost:8080/"
        },
        "outputId": "a974319c-d7c7-4178-f093-1cd5fbdc3e46"
      },
      "outputs": [
        {
          "output_type": "stream",
          "name": "stdout",
          "text": [
            "Hello, world!\n"
          ]
        }
      ],
      "source": [
        "user_input = input(\"문자열을 입력하세요.\")"
      ]
    },
    {
      "cell_type": "code",
      "source": [
        "입력된 단어는 회문입니다"
      ],
      "metadata": {
        "id": "WYlpahWPhPPl"
      },
      "execution_count": null,
      "outputs": []
    }
  ]
}